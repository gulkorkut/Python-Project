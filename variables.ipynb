{
  "nbformat": 4,
  "nbformat_minor": 0,
  "metadata": {
    "colab": {
      "provenance": []
    },
    "kernelspec": {
      "name": "python3",
      "display_name": "Python 3"
    },
    "language_info": {
      "name": "python"
    }
  },
  "cells": [
    {
      "cell_type": "code",
      "execution_count": null,
      "metadata": {
        "colab": {
          "base_uri": "https://localhost:8080/"
        },
        "id": "JIpqnuC66len",
        "outputId": "31c8bde3-c94e-4541-9b19-e824b966647e"
      },
      "outputs": [
        {
          "output_type": "execute_result",
          "data": {
            "text/plain": [
              "int"
            ]
          },
          "metadata": {},
          "execution_count": 7
        }
      ],
      "source": [
        "age=-32\n",
        "age\n",
        "name='Gul'\n",
        "type(age)\n"
      ]
    },
    {
      "cell_type": "code",
      "source": [
        "\"\"\"\n",
        "This is a multi-line comment with docstrings\n",
        "\n",
        "print(\"Hello world\")\n",
        "print(\"Hello universe\")\n",
        "print(\"Hello everyone\")\n",
        "\"\"\"\n",
        "print(age)"
      ],
      "metadata": {
        "colab": {
          "base_uri": "https://localhost:8080/"
        },
        "id": "d8FEbKnq_Z-x",
        "outputId": "137bb951-6b44-416d-d44e-895437b9f8a7"
      },
      "execution_count": null,
      "outputs": [
        {
          "output_type": "stream",
          "name": "stdout",
          "text": [
            "-32.15\n"
          ]
        }
      ]
    },
    {
      "cell_type": "code",
      "source": [
        "print(type(name))"
      ],
      "metadata": {
        "colab": {
          "base_uri": "https://localhost:8080/"
        },
        "id": "7LClLl2i71S-",
        "outputId": "038d8d0f-91b0-4935-91e9-d403c4ff39ff"
      },
      "execution_count": null,
      "outputs": [
        {
          "output_type": "stream",
          "name": "stdout",
          "text": [
            "<class 'str'>\n"
          ]
        }
      ]
    },
    {
      "cell_type": "code",
      "source": [
        "items=['Apple',15,'as far as',13.25,'1999',18.45,'far','close']\n",
        "print(items,type(items))"
      ],
      "metadata": {
        "colab": {
          "base_uri": "https://localhost:8080/"
        },
        "id": "KXgOxup976b4",
        "outputId": "5b054024-f1e5-4fde-9895-00648c6ec3c7"
      },
      "execution_count": null,
      "outputs": [
        {
          "output_type": "stream",
          "name": "stdout",
          "text": [
            "['Apple', 15, 'as far as', 13.25, '1999', 18.45, 'uzak', 'yakın'] <class 'list'>\n"
          ]
        }
      ]
    },
    {
      "cell_type": "code",
      "source": [
        "print(items[3])"
      ],
      "metadata": {
        "colab": {
          "base_uri": "https://localhost:8080/"
        },
        "id": "Wa-ElUaG8C2o",
        "outputId": "85f9acc4-2236-498a-a781-5cfe4174a18b"
      },
      "execution_count": null,
      "outputs": [
        {
          "output_type": "stream",
          "name": "stdout",
          "text": [
            "13.25\n"
          ]
        }
      ]
    },
    {
      "cell_type": "code",
      "source": [
        "print(items[2:5]) #I write the index of the first data I want to print and I put it next to the data in which index I want to print, but it does not include the last data."
      ],
      "metadata": {
        "colab": {
          "base_uri": "https://localhost:8080/"
        },
        "id": "Bzx2WuE49HT2",
        "outputId": "7b2b1b06-d44d-4665-a1c2-8a55a70a2c29"
      },
      "execution_count": null,
      "outputs": [
        {
          "output_type": "stream",
          "name": "stdout",
          "text": [
            "['as far as', 13.25, '1999']\n"
          ]
        }
      ]
    },
    {
      "cell_type": "code",
      "source": [
        "print(items[:2])"
      ],
      "metadata": {
        "colab": {
          "base_uri": "https://localhost:8080/"
        },
        "id": "ZwSsD3PH91Tk",
        "outputId": "4defa7c3-be78-42c7-92fb-940e1ab92eb0"
      },
      "execution_count": null,
      "outputs": [
        {
          "output_type": "stream",
          "name": "stdout",
          "text": [
            "['Apple', 15]\n"
          ]
        }
      ]
    },
    {
      "cell_type": "code",
      "source": [
        "print(items[2:])"
      ],
      "metadata": {
        "colab": {
          "base_uri": "https://localhost:8080/"
        },
        "id": "kGzzAyxX-dGM",
        "outputId": "c687d9ff-8273-4fa8-c40a-1be77b3057ac"
      },
      "execution_count": null,
      "outputs": [
        {
          "output_type": "stream",
          "name": "stdout",
          "text": [
            "['as far as', 13.25, '1999', 18.45, 'uzak', 'yakın']\n"
          ]
        }
      ]
    },
    {
      "cell_type": "code",
      "source": [
        "items[1]=\"not 15\"\n",
        "print(items)\n",
        "#we changed index 1"
      ],
      "metadata": {
        "colab": {
          "base_uri": "https://localhost:8080/"
        },
        "id": "h8umyBGiAvyc",
        "outputId": "9d02cbbe-b7ad-4d79-b76d-0b2b1de7fb94"
      },
      "execution_count": null,
      "outputs": [
        {
          "output_type": "stream",
          "name": "stdout",
          "text": [
            "['Apple', '15 değil', 'as far as', 13.25, '1999', 18.45, 'uzak', 'yakın']\n"
          ]
        }
      ]
    },
    {
      "cell_type": "code",
      "source": [
        "print(age,type(age))\n",
        "age+=0.5\n",
        "print(age,type(age))"
      ],
      "metadata": {
        "colab": {
          "base_uri": "https://localhost:8080/"
        },
        "id": "rj456qi2BP7p",
        "outputId": "98f81b09-b19c-4b1f-e4da-4a193ed1468a"
      },
      "execution_count": null,
      "outputs": [
        {
          "output_type": "stream",
          "name": "stdout",
          "text": [
            "-32 <class 'int'>\n",
            "-31.5 <class 'float'>\n"
          ]
        }
      ]
    },
    {
      "cell_type": "markdown",
      "source": [
        "Every time I press the above code the number gets a little less"
      ],
      "metadata": {
        "id": "A21Eq5z7EtFH"
      }
    },
    {
      "cell_type": "code",
      "source": [
        "number='19' #changing the type of variable\n",
        "print(number,type(number))\n",
        "number=int(number)\n",
        "print(number,type(number))"
      ],
      "metadata": {
        "colab": {
          "base_uri": "https://localhost:8080/"
        },
        "id": "k-NuNYbYCY0w",
        "outputId": "cb4545fd-2de4-4271-d5eb-2d77d22d1434"
      },
      "execution_count": null,
      "outputs": [
        {
          "output_type": "stream",
          "name": "stdout",
          "text": [
            "19 <class 'str'>\n",
            "19 <class 'int'>\n"
          ]
        }
      ]
    }
  ]
}